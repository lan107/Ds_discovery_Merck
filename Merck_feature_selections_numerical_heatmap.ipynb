{
 "cells": [
  {
   "cell_type": "code",
   "execution_count": 1,
   "id": "cb630e83",
   "metadata": {},
   "outputs": [],
   "source": [
    "#join all cvs and look at all the columns\n",
    "#find the most impactful features, some maybe linearly dependent \n",
    "#explore sequence_aligment_aa_light, #sequence_aligment_aa_heavy \n",
    "#explore cdr3_start_light, #cdr3_end_light\n",
    "    #extract sequences, count the number of amino acids, then plot histogram.\n",
    "#pd.read_csv(“[FILE NAME].csv.gz\", compression=\"gzip\", sep=\",\", skiprows=1)\n",
    "  "
   ]
  },
  {
   "cell_type": "code",
   "execution_count": 2,
   "id": "aeb6af03",
   "metadata": {},
   "outputs": [],
   "source": [
    "import os\n",
    "import pandas as pd\n",
    "import glob"
   ]
  },
  {
   "cell_type": "code",
   "execution_count": 3,
   "id": "f5bcb94a",
   "metadata": {},
   "outputs": [],
   "source": [
    "all_files = glob.glob(\"datasets/*.csv.gz\")"
   ]
  },
  {
   "cell_type": "code",
   "execution_count": 4,
   "id": "3385456f",
   "metadata": {},
   "outputs": [
    {
     "name": "stderr",
     "output_type": "stream",
     "text": [
      "<ipython-input-4-20b468d1d198>:1: DtypeWarning: Columns (109,125,126,127,128,155,191) have mixed types.Specify dtype option on import or set low_memory=False.\n",
      "  df = pd.concat((pd.read_csv(f, compression=\"gzip\", sep=\",\", skiprows=1) for f in all_files), ignore_index = True)\n"
     ]
    }
   ],
   "source": [
    "df = pd.concat((pd.read_csv(f, compression=\"gzip\", sep=\",\", skiprows=1) for f in all_files), ignore_index = True)"
   ]
  },
  {
   "cell_type": "code",
   "execution_count": 5,
   "id": "164663a7",
   "metadata": {},
   "outputs": [
    {
     "data": {
      "text/html": [
       "<div>\n",
       "<style scoped>\n",
       "    .dataframe tbody tr th:only-of-type {\n",
       "        vertical-align: middle;\n",
       "    }\n",
       "\n",
       "    .dataframe tbody tr th {\n",
       "        vertical-align: top;\n",
       "    }\n",
       "\n",
       "    .dataframe thead th {\n",
       "        text-align: right;\n",
       "    }\n",
       "</style>\n",
       "<table border=\"1\" class=\"dataframe\">\n",
       "  <thead>\n",
       "    <tr style=\"text-align: right;\">\n",
       "      <th></th>\n",
       "      <th>sequence_id_heavy</th>\n",
       "      <th>sequence_heavy</th>\n",
       "      <th>locus_heavy</th>\n",
       "      <th>stop_codon_heavy</th>\n",
       "      <th>vj_in_frame_heavy</th>\n",
       "      <th>v_frameshift_heavy</th>\n",
       "      <th>productive_heavy</th>\n",
       "      <th>rev_comp_heavy</th>\n",
       "      <th>complete_vdj_heavy</th>\n",
       "      <th>v_call_heavy</th>\n",
       "      <th>...</th>\n",
       "      <th>cdr3_end_light</th>\n",
       "      <th>np1_light</th>\n",
       "      <th>np1_length_light</th>\n",
       "      <th>np2_light</th>\n",
       "      <th>np2_length_light</th>\n",
       "      <th>c_region_light</th>\n",
       "      <th>Isotype_light</th>\n",
       "      <th>Redundancy_light</th>\n",
       "      <th>ANARCI_numbering_light</th>\n",
       "      <th>ANARCI_status_light</th>\n",
       "    </tr>\n",
       "  </thead>\n",
       "  <tbody>\n",
       "    <tr>\n",
       "      <th>0</th>\n",
       "      <td>AAACCTGAGAACTCGG-1_contig_2</td>\n",
       "      <td>GGCTTTCTGAGAGTCATGGACCTCCTGCACAAGAACATGAAACACC...</td>\n",
       "      <td>H</td>\n",
       "      <td>F</td>\n",
       "      <td>T</td>\n",
       "      <td>F</td>\n",
       "      <td>T</td>\n",
       "      <td>F</td>\n",
       "      <td>T</td>\n",
       "      <td>IGHV4-34*01</td>\n",
       "      <td>...</td>\n",
       "      <td>411.0</td>\n",
       "      <td>NaN</td>\n",
       "      <td>0.0</td>\n",
       "      <td>NaN</td>\n",
       "      <td>NaN</td>\n",
       "      <td>GTCAGCCCAAGGCTGCCCCCTCGGTCACTCTGTTCCCGCCCTCCTC...</td>\n",
       "      <td>Bulk</td>\n",
       "      <td>1.0</td>\n",
       "      <td>{'fwl1': {'1 ': 'Q', '2 ': 'S', '3 ': 'V', '4 ...</td>\n",
       "      <td>|||||</td>\n",
       "    </tr>\n",
       "    <tr>\n",
       "      <th>1</th>\n",
       "      <td>AAACCTGAGATATGGT-1_contig_2</td>\n",
       "      <td>AGCTCTGGGAGAGGAGCTCCAGCCTTGGGATTCCCAGCTGTCTCCA...</td>\n",
       "      <td>H</td>\n",
       "      <td>F</td>\n",
       "      <td>T</td>\n",
       "      <td>F</td>\n",
       "      <td>T</td>\n",
       "      <td>F</td>\n",
       "      <td>T</td>\n",
       "      <td>IGHV3-73*02</td>\n",
       "      <td>...</td>\n",
       "      <td>404.0</td>\n",
       "      <td>GCTGC</td>\n",
       "      <td>5.0</td>\n",
       "      <td>NaN</td>\n",
       "      <td>NaN</td>\n",
       "      <td>GTCAGCCCAAGGCTGCCCCCTCGGTCACTCTGTTCCCGCCCTCCTC...</td>\n",
       "      <td>Bulk</td>\n",
       "      <td>1.0</td>\n",
       "      <td>{'fwl1': {'1 ': 'Q', '2 ': 'S', '3 ': 'V', '4 ...</td>\n",
       "      <td>|||||</td>\n",
       "    </tr>\n",
       "    <tr>\n",
       "      <th>2</th>\n",
       "      <td>AAACCTGAGATGTCGG-1_contig_2</td>\n",
       "      <td>TGGGGACCCAAAAACCACACCCCTCCTTGGGAGAATCCCCTAGATC...</td>\n",
       "      <td>H</td>\n",
       "      <td>F</td>\n",
       "      <td>T</td>\n",
       "      <td>F</td>\n",
       "      <td>T</td>\n",
       "      <td>F</td>\n",
       "      <td>T</td>\n",
       "      <td>IGHV1-18*01</td>\n",
       "      <td>...</td>\n",
       "      <td>388.0</td>\n",
       "      <td>NaN</td>\n",
       "      <td>0.0</td>\n",
       "      <td>NaN</td>\n",
       "      <td>NaN</td>\n",
       "      <td>GTCAGCCCAAGGCTGCCCCCTCGGTCACTCTGTTCCCGCCCTCCTC...</td>\n",
       "      <td>Bulk</td>\n",
       "      <td>1.0</td>\n",
       "      <td>{'fwl1': {'1 ': 'S', '2 ': 'S', '3 ': 'E', '4 ...</td>\n",
       "      <td>|||||</td>\n",
       "    </tr>\n",
       "    <tr>\n",
       "      <th>3</th>\n",
       "      <td>AAACCTGAGCACCGTC-1_contig_2</td>\n",
       "      <td>ACCCAAAAACCACACCCCTCCTTGGGAGAATCCCCTAGATCACAGC...</td>\n",
       "      <td>H</td>\n",
       "      <td>F</td>\n",
       "      <td>T</td>\n",
       "      <td>F</td>\n",
       "      <td>T</td>\n",
       "      <td>F</td>\n",
       "      <td>T</td>\n",
       "      <td>IGHV1-18*01</td>\n",
       "      <td>...</td>\n",
       "      <td>398.0</td>\n",
       "      <td>NaN</td>\n",
       "      <td>0.0</td>\n",
       "      <td>NaN</td>\n",
       "      <td>NaN</td>\n",
       "      <td>GAACTGTGGCTGCACCATCTGTCTTCATCTTCCCGCCATCTGATGA...</td>\n",
       "      <td>Bulk</td>\n",
       "      <td>1.0</td>\n",
       "      <td>{'fwk1': {'1 ': 'E', '2 ': 'I', '3 ': 'V', '4 ...</td>\n",
       "      <td>|||||</td>\n",
       "    </tr>\n",
       "    <tr>\n",
       "      <th>4</th>\n",
       "      <td>AAACCTGAGCGTAATA-1_contig_2</td>\n",
       "      <td>AGCTCTGGGAGAGGAGCCCCAGCCGTGAGATTCCCAGGAGTTTCCA...</td>\n",
       "      <td>H</td>\n",
       "      <td>F</td>\n",
       "      <td>T</td>\n",
       "      <td>F</td>\n",
       "      <td>T</td>\n",
       "      <td>F</td>\n",
       "      <td>T</td>\n",
       "      <td>IGHV3-49*04</td>\n",
       "      <td>...</td>\n",
       "      <td>385.0</td>\n",
       "      <td>NaN</td>\n",
       "      <td>0.0</td>\n",
       "      <td>NaN</td>\n",
       "      <td>NaN</td>\n",
       "      <td>GTCAGCCCAACGCTGCCCCCTCGGTCACTCTGTTCCCGCCCTCCTC...</td>\n",
       "      <td>Bulk</td>\n",
       "      <td>1.0</td>\n",
       "      <td>{'fwl1': {'1 ': 'Q', '2 ': 'L', '3 ': 'V', '4 ...</td>\n",
       "      <td>|||||</td>\n",
       "    </tr>\n",
       "  </tbody>\n",
       "</table>\n",
       "<p>5 rows × 198 columns</p>\n",
       "</div>"
      ],
      "text/plain": [
       "             sequence_id_heavy  \\\n",
       "0  AAACCTGAGAACTCGG-1_contig_2   \n",
       "1  AAACCTGAGATATGGT-1_contig_2   \n",
       "2  AAACCTGAGATGTCGG-1_contig_2   \n",
       "3  AAACCTGAGCACCGTC-1_contig_2   \n",
       "4  AAACCTGAGCGTAATA-1_contig_2   \n",
       "\n",
       "                                      sequence_heavy locus_heavy  \\\n",
       "0  GGCTTTCTGAGAGTCATGGACCTCCTGCACAAGAACATGAAACACC...           H   \n",
       "1  AGCTCTGGGAGAGGAGCTCCAGCCTTGGGATTCCCAGCTGTCTCCA...           H   \n",
       "2  TGGGGACCCAAAAACCACACCCCTCCTTGGGAGAATCCCCTAGATC...           H   \n",
       "3  ACCCAAAAACCACACCCCTCCTTGGGAGAATCCCCTAGATCACAGC...           H   \n",
       "4  AGCTCTGGGAGAGGAGCCCCAGCCGTGAGATTCCCAGGAGTTTCCA...           H   \n",
       "\n",
       "  stop_codon_heavy vj_in_frame_heavy v_frameshift_heavy productive_heavy  \\\n",
       "0                F                 T                  F                T   \n",
       "1                F                 T                  F                T   \n",
       "2                F                 T                  F                T   \n",
       "3                F                 T                  F                T   \n",
       "4                F                 T                  F                T   \n",
       "\n",
       "  rev_comp_heavy complete_vdj_heavy v_call_heavy  ... cdr3_end_light  \\\n",
       "0              F                  T  IGHV4-34*01  ...          411.0   \n",
       "1              F                  T  IGHV3-73*02  ...          404.0   \n",
       "2              F                  T  IGHV1-18*01  ...          388.0   \n",
       "3              F                  T  IGHV1-18*01  ...          398.0   \n",
       "4              F                  T  IGHV3-49*04  ...          385.0   \n",
       "\n",
       "  np1_light np1_length_light np2_light np2_length_light  \\\n",
       "0       NaN              0.0       NaN              NaN   \n",
       "1     GCTGC              5.0       NaN              NaN   \n",
       "2       NaN              0.0       NaN              NaN   \n",
       "3       NaN              0.0       NaN              NaN   \n",
       "4       NaN              0.0       NaN              NaN   \n",
       "\n",
       "                                      c_region_light  Isotype_light  \\\n",
       "0  GTCAGCCCAAGGCTGCCCCCTCGGTCACTCTGTTCCCGCCCTCCTC...           Bulk   \n",
       "1  GTCAGCCCAAGGCTGCCCCCTCGGTCACTCTGTTCCCGCCCTCCTC...           Bulk   \n",
       "2  GTCAGCCCAAGGCTGCCCCCTCGGTCACTCTGTTCCCGCCCTCCTC...           Bulk   \n",
       "3  GAACTGTGGCTGCACCATCTGTCTTCATCTTCCCGCCATCTGATGA...           Bulk   \n",
       "4  GTCAGCCCAACGCTGCCCCCTCGGTCACTCTGTTCCCGCCCTCCTC...           Bulk   \n",
       "\n",
       "   Redundancy_light                             ANARCI_numbering_light  \\\n",
       "0               1.0  {'fwl1': {'1 ': 'Q', '2 ': 'S', '3 ': 'V', '4 ...   \n",
       "1               1.0  {'fwl1': {'1 ': 'Q', '2 ': 'S', '3 ': 'V', '4 ...   \n",
       "2               1.0  {'fwl1': {'1 ': 'S', '2 ': 'S', '3 ': 'E', '4 ...   \n",
       "3               1.0  {'fwk1': {'1 ': 'E', '2 ': 'I', '3 ': 'V', '4 ...   \n",
       "4               1.0  {'fwl1': {'1 ': 'Q', '2 ': 'L', '3 ': 'V', '4 ...   \n",
       "\n",
       "   ANARCI_status_light  \n",
       "0                |||||  \n",
       "1                |||||  \n",
       "2                |||||  \n",
       "3                |||||  \n",
       "4                |||||  \n",
       "\n",
       "[5 rows x 198 columns]"
      ]
     },
     "execution_count": 5,
     "metadata": {},
     "output_type": "execute_result"
    }
   ],
   "source": [
    "df.head()"
   ]
  },
  {
   "cell_type": "code",
   "execution_count": 6,
   "id": "eff2fb23",
   "metadata": {},
   "outputs": [
    {
     "data": {
      "text/plain": [
       "(1162853, 198)"
      ]
     },
     "execution_count": 6,
     "metadata": {},
     "output_type": "execute_result"
    }
   ],
   "source": [
    "df.shape"
   ]
  },
  {
   "cell_type": "code",
   "execution_count": null,
   "id": "d0a7bd0a",
   "metadata": {},
   "outputs": [],
   "source": [
    "#save csv\n",
    "\n",
    "df.to_csv(\"merck_df.csv\", index = False)"
   ]
  },
  {
   "cell_type": "code",
   "execution_count": 70,
   "id": "afdeab55",
   "metadata": {},
   "outputs": [
    {
     "name": "stdout",
     "output_type": "stream",
     "text": [
      "sequence_id_heavy\n",
      "sequence_heavy\n",
      "locus_heavy\n",
      "stop_codon_heavy\n",
      "vj_in_frame_heavy\n",
      "v_frameshift_heavy\n",
      "productive_heavy\n",
      "rev_comp_heavy\n",
      "complete_vdj_heavy\n",
      "v_call_heavy\n",
      "d_call_heavy\n",
      "j_call_heavy\n",
      "sequence_alignment_heavy\n",
      "germline_alignment_heavy\n",
      "sequence_alignment_aa_heavy\n",
      "germline_alignment_aa_heavy\n",
      "v_alignment_start_heavy\n",
      "v_alignment_end_heavy\n",
      "d_alignment_start_heavy\n",
      "d_alignment_end_heavy\n",
      "j_alignment_start_heavy\n",
      "j_alignment_end_heavy\n",
      "v_sequence_alignment_heavy\n",
      "v_sequence_alignment_aa_heavy\n",
      "v_germline_alignment_heavy\n",
      "v_germline_alignment_aa_heavy\n",
      "d_sequence_alignment_heavy\n",
      "d_sequence_alignment_aa_heavy\n",
      "d_germline_alignment_heavy\n",
      "d_germline_alignment_aa_heavy\n",
      "j_sequence_alignment_heavy\n",
      "j_sequence_alignment_aa_heavy\n",
      "j_germline_alignment_heavy\n",
      "j_germline_alignment_aa_heavy\n",
      "fwr1_heavy\n",
      "fwr1_aa_heavy\n",
      "cdr1_heavy\n",
      "cdr1_aa_heavy\n",
      "fwr2_heavy\n",
      "fwr2_aa_heavy\n",
      "cdr2_heavy\n",
      "cdr2_aa_heavy\n",
      "fwr3_heavy\n",
      "fwr3_aa_heavy\n",
      "fwr4_heavy\n",
      "fwr4_aa_heavy\n",
      "cdr3_heavy\n",
      "cdr3_aa_heavy\n",
      "junction_heavy\n",
      "junction_length_heavy\n",
      "junction_aa_heavy\n",
      "junction_aa_length_heavy\n",
      "v_score_heavy\n",
      "d_score_heavy\n",
      "j_score_heavy\n",
      "v_cigar_heavy\n",
      "d_cigar_heavy\n",
      "j_cigar_heavy\n",
      "v_support_heavy\n",
      "d_support_heavy\n",
      "j_support_heavy\n",
      "v_identity_heavy\n",
      "d_identity_heavy\n",
      "j_identity_heavy\n",
      "v_sequence_start_heavy\n",
      "v_sequence_end_heavy\n",
      "v_germline_start_heavy\n",
      "v_germline_end_heavy\n",
      "d_sequence_start_heavy\n",
      "d_sequence_end_heavy\n",
      "d_germline_start_heavy\n",
      "d_germline_end_heavy\n",
      "j_sequence_start_heavy\n",
      "j_sequence_end_heavy\n",
      "j_germline_start_heavy\n",
      "j_germline_end_heavy\n",
      "fwr1_start_heavy\n",
      "fwr1_end_heavy\n",
      "cdr1_start_heavy\n",
      "cdr1_end_heavy\n",
      "fwr2_start_heavy\n",
      "fwr2_end_heavy\n",
      "cdr2_start_heavy\n",
      "cdr2_end_heavy\n",
      "fwr3_start_heavy\n",
      "fwr3_end_heavy\n",
      "fwr4_start_heavy\n",
      "fwr4_end_heavy\n",
      "cdr3_start_heavy\n",
      "cdr3_end_heavy\n",
      "np1_heavy\n",
      "np1_length_heavy\n",
      "np2_heavy\n",
      "np2_length_heavy\n",
      "c_region_heavy\n",
      "Isotype_heavy\n",
      "Redundancy_heavy\n",
      "ANARCI_numbering_heavy\n",
      "ANARCI_status_heavy\n",
      "sequence_id_light\n",
      "sequence_light\n",
      "locus_light\n",
      "stop_codon_light\n",
      "vj_in_frame_light\n",
      "v_frameshift_light\n",
      "productive_light\n",
      "rev_comp_light\n",
      "complete_vdj_light\n",
      "v_call_light\n",
      "d_call_light\n",
      "j_call_light\n",
      "sequence_alignment_light\n",
      "germline_alignment_light\n",
      "sequence_alignment_aa_light\n",
      "germline_alignment_aa_light\n",
      "v_alignment_start_light\n",
      "v_alignment_end_light\n",
      "d_alignment_start_light\n",
      "d_alignment_end_light\n",
      "j_alignment_start_light\n",
      "j_alignment_end_light\n",
      "v_sequence_alignment_light\n",
      "v_sequence_alignment_aa_light\n",
      "v_germline_alignment_light\n",
      "v_germline_alignment_aa_light\n",
      "d_sequence_alignment_light\n",
      "d_sequence_alignment_aa_light\n",
      "d_germline_alignment_light\n",
      "d_germline_alignment_aa_light\n",
      "j_sequence_alignment_light\n",
      "j_sequence_alignment_aa_light\n",
      "j_germline_alignment_light\n",
      "j_germline_alignment_aa_light\n",
      "fwr1_light\n",
      "fwr1_aa_light\n",
      "cdr1_light\n",
      "cdr1_aa_light\n",
      "fwr2_light\n",
      "fwr2_aa_light\n",
      "cdr2_light\n",
      "cdr2_aa_light\n",
      "fwr3_light\n",
      "fwr3_aa_light\n",
      "fwr4_light\n",
      "fwr4_aa_light\n",
      "cdr3_light\n",
      "cdr3_aa_light\n",
      "junction_light\n",
      "junction_length_light\n",
      "junction_aa_light\n",
      "junction_aa_length_light\n",
      "v_score_light\n",
      "d_score_light\n",
      "j_score_light\n",
      "v_cigar_light\n",
      "d_cigar_light\n",
      "j_cigar_light\n",
      "v_support_light\n",
      "d_support_light\n",
      "j_support_light\n",
      "v_identity_light\n",
      "d_identity_light\n",
      "j_identity_light\n",
      "v_sequence_start_light\n",
      "v_sequence_end_light\n",
      "v_germline_start_light\n",
      "v_germline_end_light\n",
      "d_sequence_start_light\n",
      "d_sequence_end_light\n",
      "d_germline_start_light\n",
      "d_germline_end_light\n",
      "j_sequence_start_light\n",
      "j_sequence_end_light\n",
      "j_germline_start_light\n",
      "j_germline_end_light\n",
      "fwr1_start_light\n",
      "fwr1_end_light\n",
      "cdr1_start_light\n",
      "cdr1_end_light\n",
      "fwr2_start_light\n",
      "fwr2_end_light\n",
      "cdr2_start_light\n",
      "cdr2_end_light\n",
      "fwr3_start_light\n",
      "fwr3_end_light\n",
      "fwr4_start_light\n",
      "fwr4_end_light\n",
      "cdr3_start_light\n",
      "cdr3_end_light\n",
      "np1_light\n",
      "np1_length_light\n",
      "np2_light\n",
      "np2_length_light\n",
      "c_region_light\n",
      "Isotype_light\n",
      "Redundancy_light\n",
      "ANARCI_numbering_light\n",
      "ANARCI_status_light\n"
     ]
    }
   ],
   "source": [
    "for i in df.columns:\n",
    "    print(i)"
   ]
  },
  {
   "cell_type": "markdown",
   "id": "1e7ded76",
   "metadata": {},
   "source": [
    "***Feature Selection***"
   ]
  },
  {
   "cell_type": "code",
   "execution_count": 91,
   "id": "e81f2e55",
   "metadata": {},
   "outputs": [
    {
     "data": {
      "text/plain": [
       "sequence_id_heavy              0\n",
       "sequence_heavy                 0\n",
       "locus_heavy                    0\n",
       "stop_codon_heavy               0\n",
       "vj_in_frame_heavy              0\n",
       "                           ...  \n",
       "c_region_light            106435\n",
       "Isotype_light             106409\n",
       "Redundancy_light          106409\n",
       "ANARCI_numbering_light         0\n",
       "ANARCI_status_light            0\n",
       "Length: 198, dtype: int64"
      ]
     },
     "execution_count": 91,
     "metadata": {},
     "output_type": "execute_result"
    }
   ],
   "source": [
    "df.isna().sum()"
   ]
  },
  {
   "cell_type": "code",
   "execution_count": 92,
   "id": "10b9b78a",
   "metadata": {},
   "outputs": [],
   "source": [
    "import seaborn as sns\n",
    "import statsmodels.api as sm\n",
    "import numpy as np\n",
    "from statsmodels.stats.outliers_influence import variance_inflation_factor"
   ]
  },
  {
   "cell_type": "code",
   "execution_count": 93,
   "id": "76f1a152",
   "metadata": {},
   "outputs": [],
   "source": [
    "# def VIF(df, columns):\n",
    "#     values = sm.add_constant(df[columns]).values\n",
    "#     num_columns = len(columns)+1\n",
    "#     vif = [variance_inflation_factor(values, i) for i in range(num_columns)] \n",
    "#     return pd.Series(vif[1:], index=columns)"
   ]
  },
  {
   "cell_type": "code",
   "execution_count": 120,
   "id": "653de5a6",
   "metadata": {},
   "outputs": [],
   "source": [
    "#heatmap"
   ]
  },
  {
   "cell_type": "code",
   "execution_count": 196,
   "id": "b45aecd2",
   "metadata": {},
   "outputs": [],
   "source": [
    "import matplotlib.pyplot as plt"
   ]
  },
  {
   "cell_type": "code",
   "execution_count": 200,
   "id": "3e90d242",
   "metadata": {},
   "outputs": [
    {
     "data": {
      "text/plain": [
       "<AxesSubplot:>"
      ]
     },
     "execution_count": 200,
     "metadata": {},
     "output_type": "execute_result"
    },
    {
     "data": {
      "image/png": "[encoded data removed]",
      "text/plain": [
       "<Figure size 720x720 with 2 Axes>"
      ]
     },
     "metadata": {
      "needs_background": "light"
     },
     "output_type": "display_data"
    }
   ],
   "source": [
    "fig, ax = plt.subplots(figsize=(10, 10))     \n",
    "ax = sns.heatmap(df.corr())\n",
    "ax"
   ]
  },
  {
   "cell_type": "code",
   "execution_count": null,
   "id": "b29cc4be",
   "metadata": {},
   "outputs": [],
   "source": [
    "# v_alignment_start_heavy, j_alignment_start_heavy, j_alignment_end_heavy, d_alignment_end_heavy\n",
    "#d_germline_end_light, d_germline_start_light, d_sequence_end_light, d_sequence_start_light,d_score_light, \n",
    "#d_support_heavy"
   ]
  },
  {
   "cell_type": "code",
   "execution_count": null,
   "id": "e618aee1",
   "metadata": {},
   "outputs": [],
   "source": [
    "import numpy as np\n",
    "import pandas as pd\n",
    "from sklearn.preprocessing import OneHotEncoder\n",
    "from sklearn.preprocessing import LabelEncoder\n",
    "import matplotlib\n",
    "import matplotlib.pyplot as plt"
   ]
  },
  {
   "cell_type": "code",
   "execution_count": null,
   "id": "92bcef68",
   "metadata": {},
   "outputs": [],
   "source": [
    "big_df = pd.read_csv(\"merck_df.csv\", sep='\\t')"
   ]
  },
  {
   "cell_type": "code",
   "execution_count": null,
   "id": "dc0acca7",
   "metadata": {},
   "outputs": [],
   "source": [
    "le = LabelEncoder()\n",
    "le.fit(big_df[\"\"])\n",
    "integer_encoded_letters = le.transform()"
   ]
  },
  {
   "cell_type": "code",
   "execution_count": null,
   "id": "3e7e60cc",
   "metadata": {},
   "outputs": [],
   "source": [
    "integer_encoded_letters "
   ]
  },
  {
   "cell_type": "code",
   "execution_count": 41,
   "id": "4483e2ba",
   "metadata": {},
   "outputs": [],
   "source": [
    "df[sequence_aligment_aa_heavy]"
   ]
  },
  {
   "cell_type": "code",
   "execution_count": null,
   "id": "1972f8a0",
   "metadata": {},
   "outputs": [],
   "source": []
  },
  {
   "cell_type": "code",
   "execution_count": 155,
   "id": "30638e03",
   "metadata": {},
   "outputs": [],
   "source": []
  },
  {
   "cell_type": "code",
   "execution_count": null,
   "id": "c9aef875",
   "metadata": {},
   "outputs": [],
   "source": []
  },
  {
   "cell_type": "code",
   "execution_count": null,
   "id": "05e484d9",
   "metadata": {},
   "outputs": [],
   "source": []
  },
  {
   "cell_type": "code",
   "execution_count": null,
   "id": "038f712e",
   "metadata": {},
   "outputs": [],
   "source": []
  }
 ],
 "metadata": {
  "kernelspec": {
   "display_name": "Python 3",
   "language": "python",
   "name": "python3"
  },
  "language_info": {
   "codemirror_mode": {
    "name": "ipython",
    "version": 3
   },
   "file_extension": ".py",
   "mimetype": "text/x-python",
   "name": "python",
   "nbconvert_exporter": "python",
   "pygments_lexer": "ipython3",
   "version": "3.8.8"
  }
 },
 "nbformat": 4,
 "nbformat_minor": 5
}
