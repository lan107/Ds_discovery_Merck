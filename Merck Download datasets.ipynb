{
 "cells": [
  {
   "cell_type": "code",
   "execution_count": 1,
   "id": "fdffa388",
   "metadata": {},
   "outputs": [],
   "source": [
    "import wget\n",
    "import pandas as pd\n",
    "import os\n",
    "import subprocess"
   ]
  },
  {
   "cell_type": "code",
   "execution_count": 2,
   "id": "096ce0e1",
   "metadata": {},
   "outputs": [
    {
     "data": {
      "text/plain": [
       "0"
      ]
     },
     "execution_count": 2,
     "metadata": {},
     "output_type": "execute_result"
    }
   ],
   "source": [
    "subprocess.call(['sh', './bulk_download.sh'], shell = True)"
   ]
  },
  {
   "cell_type": "code",
   "execution_count": null,
   "id": "9195fa55",
   "metadata": {},
   "outputs": [],
   "source": [
    "%%sh\n",
    "\n",
    "cat bulk_download.sh\n",
    "./bulk_download.sh"
   ]
  },
  {
   "cell_type": "code",
   "execution_count": null,
   "id": "8f5f7deb",
   "metadata": {},
   "outputs": [],
   "source": [
    "os.system('sh bulk_download.sh')"
   ]
  },
  {
   "cell_type": "code",
   "execution_count": null,
   "id": "d69ae677",
   "metadata": {},
   "outputs": [],
   "source": [
    "subprocess.run(['/bin/bash', './bulk_download.sh'])"
   ]
  },
  {
   "cell_type": "code",
   "execution_count": null,
   "id": "41a23883",
   "metadata": {},
   "outputs": [],
   "source": [
    "!ls *.gz"
   ]
  }
 ],
 "metadata": {
  "kernelspec": {
   "display_name": "Python 3",
   "language": "python",
   "name": "python3"
  },
  "language_info": {
   "codemirror_mode": {
    "name": "ipython",
    "version": 3
   },
   "file_extension": ".py",
   "mimetype": "text/x-python",
   "name": "python",
   "nbconvert_exporter": "python",
   "pygments_lexer": "ipython3",
   "version": "3.8.8"
  }
 },
 "nbformat": 4,
 "nbformat_minor": 5
}
